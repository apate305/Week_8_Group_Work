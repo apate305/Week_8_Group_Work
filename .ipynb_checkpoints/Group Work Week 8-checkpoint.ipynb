{
 "cells": [
  {
   "cell_type": "code",
   "execution_count": 11,
   "id": "5ffff88b",
   "metadata": {},
   "outputs": [],
   "source": [
    "import numpy as np\n",
    "import pandas as pd\n",
    "\n",
    "import math\n",
    "import statistics\n",
    "from scipy import stats"
   ]
  },
  {
   "cell_type": "code",
   "execution_count": 12,
   "id": "1dad17b0",
   "metadata": {},
   "outputs": [
    {
     "data": {
      "text/html": [
       "<div>\n",
       "<style scoped>\n",
       "    .dataframe tbody tr th:only-of-type {\n",
       "        vertical-align: middle;\n",
       "    }\n",
       "\n",
       "    .dataframe tbody tr th {\n",
       "        vertical-align: top;\n",
       "    }\n",
       "\n",
       "    .dataframe thead th {\n",
       "        text-align: right;\n",
       "    }\n",
       "</style>\n",
       "<table border=\"1\" class=\"dataframe\">\n",
       "  <thead>\n",
       "    <tr style=\"text-align: right;\">\n",
       "      <th></th>\n",
       "      <th>id</th>\n",
       "      <th>name</th>\n",
       "      <th>host_id</th>\n",
       "      <th>host_name</th>\n",
       "      <th>neighbourhood_group</th>\n",
       "      <th>neighbourhood</th>\n",
       "      <th>latitude</th>\n",
       "      <th>longitude</th>\n",
       "      <th>room_type</th>\n",
       "      <th>price</th>\n",
       "      <th>minimum_nights</th>\n",
       "      <th>number_of_reviews</th>\n",
       "      <th>last_review</th>\n",
       "      <th>reviews_per_month</th>\n",
       "      <th>calculated_host_listings_count</th>\n",
       "      <th>availability_365</th>\n",
       "    </tr>\n",
       "  </thead>\n",
       "  <tbody>\n",
       "    <tr>\n",
       "      <th>0</th>\n",
       "      <td>36666</td>\n",
       "      <td>Mo's Cozy Casa w/ veranda &amp; access to dock</td>\n",
       "      <td>157752</td>\n",
       "      <td>Monique</td>\n",
       "      <td>Belize</td>\n",
       "      <td>Belize Islands</td>\n",
       "      <td>17.74786</td>\n",
       "      <td>-88.02398</td>\n",
       "      <td>Entire home/apt</td>\n",
       "      <td>141</td>\n",
       "      <td>3</td>\n",
       "      <td>250</td>\n",
       "      <td>2/23/2021</td>\n",
       "      <td>2.00</td>\n",
       "      <td>5</td>\n",
       "      <td>225</td>\n",
       "    </tr>\n",
       "    <tr>\n",
       "      <th>1</th>\n",
       "      <td>36690</td>\n",
       "      <td>Mo's Cozy Cabana w/ comfy veranda &amp; access to ...</td>\n",
       "      <td>157752</td>\n",
       "      <td>Monique</td>\n",
       "      <td>Belize</td>\n",
       "      <td>Belize Islands</td>\n",
       "      <td>17.74832</td>\n",
       "      <td>-88.02474</td>\n",
       "      <td>Entire home/apt</td>\n",
       "      <td>71</td>\n",
       "      <td>3</td>\n",
       "      <td>316</td>\n",
       "      <td>2/19/2021</td>\n",
       "      <td>2.46</td>\n",
       "      <td>5</td>\n",
       "      <td>164</td>\n",
       "    </tr>\n",
       "    <tr>\n",
       "      <th>2</th>\n",
       "      <td>108932</td>\n",
       "      <td>Purple House eco solar  w/ ocean &amp; wildlife views</td>\n",
       "      <td>563377</td>\n",
       "      <td>Michael</td>\n",
       "      <td>Belize</td>\n",
       "      <td>Belize Islands</td>\n",
       "      <td>17.73221</td>\n",
       "      <td>-88.03824</td>\n",
       "      <td>Entire home/apt</td>\n",
       "      <td>191</td>\n",
       "      <td>2</td>\n",
       "      <td>30</td>\n",
       "      <td>3/14/2020</td>\n",
       "      <td>0.78</td>\n",
       "      <td>1</td>\n",
       "      <td>364</td>\n",
       "    </tr>\n",
       "    <tr>\n",
       "      <th>3</th>\n",
       "      <td>110483</td>\n",
       "      <td>Michelo's fuchsia suite</td>\n",
       "      <td>567809</td>\n",
       "      <td>Michel</td>\n",
       "      <td>Stann Creek</td>\n",
       "      <td>Stann Creek Mainland</td>\n",
       "      <td>16.52114</td>\n",
       "      <td>-88.36926</td>\n",
       "      <td>Hotel room</td>\n",
       "      <td>121</td>\n",
       "      <td>1</td>\n",
       "      <td>27</td>\n",
       "      <td>2/24/2020</td>\n",
       "      <td>0.29</td>\n",
       "      <td>3</td>\n",
       "      <td>331</td>\n",
       "    </tr>\n",
       "    <tr>\n",
       "      <th>4</th>\n",
       "      <td>120115</td>\n",
       "      <td>Seaside Villas Second Floor Unit  #4</td>\n",
       "      <td>604999</td>\n",
       "      <td>Bobbi</td>\n",
       "      <td>Belize</td>\n",
       "      <td>Belize Islands</td>\n",
       "      <td>17.74166</td>\n",
       "      <td>-88.02395</td>\n",
       "      <td>Entire home/apt</td>\n",
       "      <td>343</td>\n",
       "      <td>1</td>\n",
       "      <td>30</td>\n",
       "      <td>3/18/2020</td>\n",
       "      <td>0.64</td>\n",
       "      <td>22</td>\n",
       "      <td>203</td>\n",
       "    </tr>\n",
       "  </tbody>\n",
       "</table>\n",
       "</div>"
      ],
      "text/plain": [
       "       id                                               name  host_id  \\\n",
       "0   36666         Mo's Cozy Casa w/ veranda & access to dock   157752   \n",
       "1   36690  Mo's Cozy Cabana w/ comfy veranda & access to ...   157752   \n",
       "2  108932  Purple House eco solar  w/ ocean & wildlife views   563377   \n",
       "3  110483                            Michelo's fuchsia suite   567809   \n",
       "4  120115               Seaside Villas Second Floor Unit  #4   604999   \n",
       "\n",
       "  host_name neighbourhood_group         neighbourhood  latitude  longitude  \\\n",
       "0   Monique              Belize        Belize Islands  17.74786  -88.02398   \n",
       "1   Monique              Belize        Belize Islands  17.74832  -88.02474   \n",
       "2   Michael              Belize        Belize Islands  17.73221  -88.03824   \n",
       "3    Michel         Stann Creek  Stann Creek Mainland  16.52114  -88.36926   \n",
       "4     Bobbi              Belize        Belize Islands  17.74166  -88.02395   \n",
       "\n",
       "         room_type  price  minimum_nights  number_of_reviews last_review  \\\n",
       "0  Entire home/apt    141               3                250   2/23/2021   \n",
       "1  Entire home/apt     71               3                316   2/19/2021   \n",
       "2  Entire home/apt    191               2                 30   3/14/2020   \n",
       "3       Hotel room    121               1                 27   2/24/2020   \n",
       "4  Entire home/apt    343               1                 30   3/18/2020   \n",
       "\n",
       "   reviews_per_month  calculated_host_listings_count  availability_365  \n",
       "0               2.00                               5               225  \n",
       "1               2.46                               5               164  \n",
       "2               0.78                               1               364  \n",
       "3               0.29                               3               331  \n",
       "4               0.64                              22               203  "
      ]
     },
     "execution_count": 12,
     "metadata": {},
     "output_type": "execute_result"
    }
   ],
   "source": [
    "belize_listings = \"belize_airbnb_listings copy.csv\"\n",
    "belize = pd.read_csv(belize_listings)\n",
    "belize.head()"
   ]
  },
  {
   "cell_type": "markdown",
   "id": "8ef20175",
   "metadata": {},
   "source": [
    "c. Write a code example for arithmetic mean, geometric mean, and harmonic mean using the Belize Airbnb data in a cell under the each respective summary in markdown"
   ]
  },
  {
   "cell_type": "markdown",
   "id": "f69a42ab",
   "metadata": {},
   "source": [
    "# Arithmetic Mean"
   ]
  },
  {
   "cell_type": "markdown",
   "id": "6a47c3a1",
   "metadata": {},
   "source": [
    "Arithmetic mean is the sum of all the values in a dataset divided by the total number of those values.\n",
    "Arithmetic Mean can be a measure of central tendency. "
   ]
  },
  {
   "cell_type": "code",
   "execution_count": 13,
   "id": "91d07ffb",
   "metadata": {},
   "outputs": [
    {
     "data": {
      "text/plain": [
       "minimum_nights        2.263948\n",
       "price               357.102289\n",
       "availability_365    280.315451\n",
       "dtype: float64"
      ]
     },
     "execution_count": 13,
     "metadata": {},
     "output_type": "execute_result"
    }
   ],
   "source": [
    "#Code\n",
    "belize[[\"minimum_nights\", \"price\", \"availability_365\"]].mean()"
   ]
  },
  {
   "cell_type": "markdown",
   "id": "4dcfbd9b",
   "metadata": {},
   "source": [
    "# Geometric Mean"
   ]
  },
  {
   "cell_type": "markdown",
   "id": "d81bc87b",
   "metadata": {},
   "source": [
    "Geometric mean is a different kind of mean where you multiply a set of values and then take the root of those values which is dependant on how many values there are. (EX: If you have 3 values, you will take the product of the values and then the cube root of it.) Geometric mean can be taken if you have a geometric sequence of data since that data has a common ratio. "
   ]
  },
  {
   "cell_type": "code",
   "execution_count": 16,
   "id": "e697ed89",
   "metadata": {},
   "outputs": [
    {
     "name": "stdout",
     "output_type": "stream",
     "text": [
      "234.7347175108817\n"
     ]
    }
   ],
   "source": [
    "#gmean() is the geometric mean function that is accessed through the module scipy. The dataframe name is \n",
    "#passed and the column plus parameters are put into the loc[]. \n",
    "\n",
    "from scipy.stats.mstats import gmean\n",
    "belize_gm = gmean(belize.loc[:,'price'])\n",
    "print(belize_gm) "
   ]
  },
  {
   "cell_type": "markdown",
   "id": "b8ad2460",
   "metadata": {},
   "source": [
    "# Harmonic Mean"
   ]
  },
  {
   "cell_type": "markdown",
   "id": "fee9ec9a",
   "metadata": {},
   "source": [
    "To get the haromonic mean, take the sum of the reciprocal of the values, then divide the sum by how many values you have and take the reciprocal again to get your mean. Harmonic means are useful when you have datasets with large outliers(numbers that skew the data). "
   ]
  },
  {
   "cell_type": "code",
   "execution_count": 22,
   "id": "c1b87ab4",
   "metadata": {},
   "outputs": [
    {
     "data": {
      "text/plain": [
       "170.99338501026463"
      ]
     },
     "execution_count": 22,
     "metadata": {},
     "output_type": "execute_result"
    }
   ],
   "source": [
    "#Code\n",
    "from scipy.stats.mstats import hmean\n",
    "belize_hm = hmean(belize.loc[:,\"price\"])\n",
    "belize_hm"
   ]
  },
  {
   "cell_type": "markdown",
   "id": "812c87af",
   "metadata": {},
   "source": [
    "Write a function to sort several subsequent inputs alphabetically. For example, if you first input ‘banana’ and next input ‘apple’, the first time [‘banana’] will be the output but the second time [‘apple’,’banana’] will be the output. The results should be stored until you restart your kernel. There are several approaches that will work, but using a global variable is likely the easiest"
   ]
  },
  {
   "cell_type": "code",
   "execution_count": 53,
   "id": "fb304922",
   "metadata": {},
   "outputs": [],
   "source": [
    "global_variable = []\n",
    "def alphabetical_order ():\n",
    "    count = 0\n",
    "    while count <= 5:\n",
    "        b = input(\"Enter a Name: \")\n",
    "        global_variable.append(b)\n",
    "        x = sorted(global_variable)\n",
    "        print(x)\n",
    "        count +=1"
   ]
  },
  {
   "cell_type": "code",
   "execution_count": 54,
   "id": "a63a953f",
   "metadata": {},
   "outputs": [
    {
     "name": "stdout",
     "output_type": "stream",
     "text": [
      "Enter a Name: banana\n",
      "['banana']\n",
      "Enter a Name: apple\n",
      "['apple', 'banana']\n",
      "Enter a Name: dog\n",
      "['apple', 'banana', 'dog']\n",
      "Enter a Name: cat\n",
      "['apple', 'banana', 'cat', 'dog']\n",
      "Enter a Name: fairy\n",
      "['apple', 'banana', 'cat', 'dog', 'fairy']\n",
      "Enter a Name: egg\n",
      "['apple', 'banana', 'cat', 'dog', 'egg', 'fairy']\n"
     ]
    }
   ],
   "source": [
    "alphabetical_order()"
   ]
  }
 ],
 "metadata": {
  "kernelspec": {
   "display_name": "Python 3 (ipykernel)",
   "language": "python",
   "name": "python3"
  },
  "language_info": {
   "codemirror_mode": {
    "name": "ipython",
    "version": 3
   },
   "file_extension": ".py",
   "mimetype": "text/x-python",
   "name": "python",
   "nbconvert_exporter": "python",
   "pygments_lexer": "ipython3",
   "version": "3.9.7"
  }
 },
 "nbformat": 4,
 "nbformat_minor": 5
}
